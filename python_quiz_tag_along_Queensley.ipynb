{
 "cells": [
  {
   "cell_type": "markdown",
   "id": "b757ff61",
   "metadata": {},
   "source": [
    "### Tag along code for Python quiz"
   ]
  },
  {
   "cell_type": "markdown",
   "id": "c89da587",
   "metadata": {},
   "source": [
    "#### Name: EkewveJero Queensley Onovwie"
   ]
  },
  {
   "cell_type": "code",
   "execution_count": 1,
   "id": "50bb928e",
   "metadata": {},
   "outputs": [],
   "source": [
    "import pandas as pd"
   ]
  },
  {
   "cell_type": "code",
   "execution_count": 2,
   "id": "6fb3d326",
   "metadata": {},
   "outputs": [],
   "source": [
    "balance_datasets = pd.read_csv('FoodBalanceSheets_E_Africa_NOFLAG.csv', encoding = \"latin-1\")"
   ]
  },
  {
   "cell_type": "code",
   "execution_count": 5,
   "id": "78880982",
   "metadata": {},
   "outputs": [
    {
     "data": {
      "text/html": [
       "<div>\n",
       "<style scoped>\n",
       "    .dataframe tbody tr th:only-of-type {\n",
       "        vertical-align: middle;\n",
       "    }\n",
       "\n",
       "    .dataframe tbody tr th {\n",
       "        vertical-align: top;\n",
       "    }\n",
       "\n",
       "    .dataframe thead th {\n",
       "        text-align: right;\n",
       "    }\n",
       "</style>\n",
       "<table border=\"1\" class=\"dataframe\">\n",
       "  <thead>\n",
       "    <tr style=\"text-align: right;\">\n",
       "      <th></th>\n",
       "      <th>Area Code</th>\n",
       "      <th>Area</th>\n",
       "      <th>Item Code</th>\n",
       "      <th>Item</th>\n",
       "      <th>Element Code</th>\n",
       "      <th>Element</th>\n",
       "      <th>Unit</th>\n",
       "      <th>Y2014</th>\n",
       "      <th>Y2015</th>\n",
       "      <th>Y2016</th>\n",
       "      <th>Y2017</th>\n",
       "      <th>Y2018</th>\n",
       "    </tr>\n",
       "  </thead>\n",
       "  <tbody>\n",
       "    <tr>\n",
       "      <th>0</th>\n",
       "      <td>4</td>\n",
       "      <td>Algeria</td>\n",
       "      <td>2501</td>\n",
       "      <td>Population</td>\n",
       "      <td>511</td>\n",
       "      <td>Total Population - Both sexes</td>\n",
       "      <td>1000 persons</td>\n",
       "      <td>38924.00</td>\n",
       "      <td>39728.00</td>\n",
       "      <td>40551.00</td>\n",
       "      <td>41389.00</td>\n",
       "      <td>42228.00</td>\n",
       "    </tr>\n",
       "    <tr>\n",
       "      <th>1</th>\n",
       "      <td>4</td>\n",
       "      <td>Algeria</td>\n",
       "      <td>2501</td>\n",
       "      <td>Population</td>\n",
       "      <td>5301</td>\n",
       "      <td>Domestic supply quantity</td>\n",
       "      <td>1000 tonnes</td>\n",
       "      <td>0.00</td>\n",
       "      <td>0.00</td>\n",
       "      <td>0.00</td>\n",
       "      <td>0.00</td>\n",
       "      <td>0.00</td>\n",
       "    </tr>\n",
       "    <tr>\n",
       "      <th>2</th>\n",
       "      <td>4</td>\n",
       "      <td>Algeria</td>\n",
       "      <td>2901</td>\n",
       "      <td>Grand Total</td>\n",
       "      <td>664</td>\n",
       "      <td>Food supply (kcal/capita/day)</td>\n",
       "      <td>kcal/capita/day</td>\n",
       "      <td>3377.00</td>\n",
       "      <td>3379.00</td>\n",
       "      <td>3372.00</td>\n",
       "      <td>3341.00</td>\n",
       "      <td>3322.00</td>\n",
       "    </tr>\n",
       "    <tr>\n",
       "      <th>3</th>\n",
       "      <td>4</td>\n",
       "      <td>Algeria</td>\n",
       "      <td>2901</td>\n",
       "      <td>Grand Total</td>\n",
       "      <td>674</td>\n",
       "      <td>Protein supply quantity (g/capita/day)</td>\n",
       "      <td>g/capita/day</td>\n",
       "      <td>94.90</td>\n",
       "      <td>94.35</td>\n",
       "      <td>94.72</td>\n",
       "      <td>92.82</td>\n",
       "      <td>91.83</td>\n",
       "    </tr>\n",
       "    <tr>\n",
       "      <th>4</th>\n",
       "      <td>4</td>\n",
       "      <td>Algeria</td>\n",
       "      <td>2901</td>\n",
       "      <td>Grand Total</td>\n",
       "      <td>684</td>\n",
       "      <td>Fat supply quantity (g/capita/day)</td>\n",
       "      <td>g/capita/day</td>\n",
       "      <td>80.06</td>\n",
       "      <td>79.36</td>\n",
       "      <td>77.40</td>\n",
       "      <td>80.19</td>\n",
       "      <td>77.28</td>\n",
       "    </tr>\n",
       "  </tbody>\n",
       "</table>\n",
       "</div>"
      ],
      "text/plain": [
       "   Area Code     Area  Item Code         Item  Element Code  \\\n",
       "0          4  Algeria       2501   Population           511   \n",
       "1          4  Algeria       2501   Population          5301   \n",
       "2          4  Algeria       2901  Grand Total           664   \n",
       "3          4  Algeria       2901  Grand Total           674   \n",
       "4          4  Algeria       2901  Grand Total           684   \n",
       "\n",
       "                                  Element             Unit     Y2014  \\\n",
       "0           Total Population - Both sexes     1000 persons  38924.00   \n",
       "1                Domestic supply quantity      1000 tonnes      0.00   \n",
       "2           Food supply (kcal/capita/day)  kcal/capita/day   3377.00   \n",
       "3  Protein supply quantity (g/capita/day)     g/capita/day     94.90   \n",
       "4      Fat supply quantity (g/capita/day)     g/capita/day     80.06   \n",
       "\n",
       "      Y2015     Y2016     Y2017     Y2018  \n",
       "0  39728.00  40551.00  41389.00  42228.00  \n",
       "1      0.00      0.00      0.00      0.00  \n",
       "2   3379.00   3372.00   3341.00   3322.00  \n",
       "3     94.35     94.72     92.82     91.83  \n",
       "4     79.36     77.40     80.19     77.28  "
      ]
     },
     "execution_count": 5,
     "metadata": {},
     "output_type": "execute_result"
    }
   ],
   "source": [
    "balance_datasets.head(5)"
   ]
  },
  {
   "cell_type": "code",
   "execution_count": 20,
   "id": "7e3b5622",
   "metadata": {},
   "outputs": [
    {
     "name": "stdout",
     "output_type": "stream",
     "text": [
      "<class 'pandas.core.frame.DataFrame'>\n",
      "RangeIndex: 60943 entries, 0 to 60942\n",
      "Data columns (total 12 columns):\n",
      " #   Column        Non-Null Count  Dtype  \n",
      "---  ------        --------------  -----  \n",
      " 0   Area Code     60943 non-null  int64  \n",
      " 1   Area          60943 non-null  object \n",
      " 2   Item Code     60943 non-null  int64  \n",
      " 3   Item          60943 non-null  object \n",
      " 4   Element Code  60943 non-null  int64  \n",
      " 5   Element       60943 non-null  object \n",
      " 6   Unit          60943 non-null  object \n",
      " 7   Y2014         59354 non-null  float64\n",
      " 8   Y2015         59395 non-null  float64\n",
      " 9   Y2016         59408 non-null  float64\n",
      " 10  Y2017         59437 non-null  float64\n",
      " 11  Y2018         59507 non-null  float64\n",
      "dtypes: float64(5), int64(3), object(4)\n",
      "memory usage: 5.6+ MB\n"
     ]
    }
   ],
   "source": [
    "balance_datasets.info()"
   ]
  },
  {
   "cell_type": "code",
   "execution_count": 10,
   "id": "83cc5d8e",
   "metadata": {},
   "outputs": [],
   "source": [
    "#Area with the highest values in Y2017\n",
    "food_area_2017 = balance_datasets[['Area', 'Y2017']]"
   ]
  },
  {
   "cell_type": "code",
   "execution_count": 7,
   "id": "2a9de3ed",
   "metadata": {},
   "outputs": [
    {
     "data": {
      "text/html": [
       "<div>\n",
       "<style scoped>\n",
       "    .dataframe tbody tr th:only-of-type {\n",
       "        vertical-align: middle;\n",
       "    }\n",
       "\n",
       "    .dataframe tbody tr th {\n",
       "        vertical-align: top;\n",
       "    }\n",
       "\n",
       "    .dataframe thead th {\n",
       "        text-align: right;\n",
       "    }\n",
       "</style>\n",
       "<table border=\"1\" class=\"dataframe\">\n",
       "  <thead>\n",
       "    <tr style=\"text-align: right;\">\n",
       "      <th></th>\n",
       "      <th>Area</th>\n",
       "      <th>Y2017</th>\n",
       "    </tr>\n",
       "  </thead>\n",
       "  <tbody>\n",
       "    <tr>\n",
       "      <th>0</th>\n",
       "      <td>Algeria</td>\n",
       "      <td>41389.00</td>\n",
       "    </tr>\n",
       "    <tr>\n",
       "      <th>1</th>\n",
       "      <td>Algeria</td>\n",
       "      <td>0.00</td>\n",
       "    </tr>\n",
       "    <tr>\n",
       "      <th>2</th>\n",
       "      <td>Algeria</td>\n",
       "      <td>3341.00</td>\n",
       "    </tr>\n",
       "    <tr>\n",
       "      <th>3</th>\n",
       "      <td>Algeria</td>\n",
       "      <td>92.82</td>\n",
       "    </tr>\n",
       "    <tr>\n",
       "      <th>4</th>\n",
       "      <td>Algeria</td>\n",
       "      <td>80.19</td>\n",
       "    </tr>\n",
       "    <tr>\n",
       "      <th>...</th>\n",
       "      <td>...</td>\n",
       "      <td>...</td>\n",
       "    </tr>\n",
       "    <tr>\n",
       "      <th>60938</th>\n",
       "      <td>Zimbabwe</td>\n",
       "      <td>19.00</td>\n",
       "    </tr>\n",
       "    <tr>\n",
       "      <th>60939</th>\n",
       "      <td>Zimbabwe</td>\n",
       "      <td>1.33</td>\n",
       "    </tr>\n",
       "    <tr>\n",
       "      <th>60940</th>\n",
       "      <td>Zimbabwe</td>\n",
       "      <td>1.00</td>\n",
       "    </tr>\n",
       "    <tr>\n",
       "      <th>60941</th>\n",
       "      <td>Zimbabwe</td>\n",
       "      <td>0.04</td>\n",
       "    </tr>\n",
       "    <tr>\n",
       "      <th>60942</th>\n",
       "      <td>Zimbabwe</td>\n",
       "      <td>0.02</td>\n",
       "    </tr>\n",
       "  </tbody>\n",
       "</table>\n",
       "<p>60943 rows × 2 columns</p>\n",
       "</div>"
      ],
      "text/plain": [
       "           Area     Y2017\n",
       "0       Algeria  41389.00\n",
       "1       Algeria      0.00\n",
       "2       Algeria   3341.00\n",
       "3       Algeria     92.82\n",
       "4       Algeria     80.19\n",
       "...         ...       ...\n",
       "60938  Zimbabwe     19.00\n",
       "60939  Zimbabwe      1.33\n",
       "60940  Zimbabwe      1.00\n",
       "60941  Zimbabwe      0.04\n",
       "60942  Zimbabwe      0.02\n",
       "\n",
       "[60943 rows x 2 columns]"
      ]
     },
     "execution_count": 7,
     "metadata": {},
     "output_type": "execute_result"
    }
   ],
   "source": [
    "food_area_2017"
   ]
  },
  {
   "cell_type": "code",
   "execution_count": 11,
   "id": "f3e3e243",
   "metadata": {},
   "outputs": [
    {
     "data": {
      "text/plain": [
       "pandas.core.frame.DataFrame"
      ]
     },
     "execution_count": 11,
     "metadata": {},
     "output_type": "execute_result"
    }
   ],
   "source": [
    "type(food_area_2017)"
   ]
  },
  {
   "cell_type": "code",
   "execution_count": 13,
   "id": "6cf351df",
   "metadata": {},
   "outputs": [],
   "source": [
    "food_area_sum_2017 = food_area_2017.groupby('Area').Y2017.sum()\n"
   ]
  },
  {
   "cell_type": "code",
   "execution_count": 15,
   "id": "fee02381",
   "metadata": {},
   "outputs": [
    {
     "data": {
      "text/plain": [
       "Area\n",
       "Nigeria                        1483268.23\n",
       "Egypt                           866379.92\n",
       "South Africa                    517590.54\n",
       "Ethiopia                        448683.76\n",
       "Morocco                         388495.36\n",
       "Ghana                           337599.06\n",
       "Algeria                         325644.27\n",
       "United Republic of Tanzania     322616.85\n",
       "Kenya                           264660.66\n",
       "Sudan                           239931.92\n",
       "Cameroon                        232030.43\n",
       "Angola                          229159.57\n",
       "Côte d'Ivoire                   224599.01\n",
       "Uganda                          213950.38\n",
       "Malawi                          181098.71\n",
       "Mozambique                      161407.98\n",
       "Mauritania                      156665.46\n",
       "Mali                            149928.33\n",
       "Madagascar                      131197.73\n",
       "Niger                           126707.58\n",
       "Benin                           124771.22\n",
       "Tunisia                         124167.20\n",
       "Zambia                          103223.77\n",
       "Burkina Faso                    101855.07\n",
       "Guinea                           98138.87\n",
       "Senegal                          95681.15\n",
       "Zimbabwe                         75919.34\n",
       "Rwanda                           73663.69\n",
       "Chad                             71594.68\n",
       "Sierra Leone                     55311.33\n",
       "Eswatini                         54343.33\n",
       "Mauritius                        51114.83\n",
       "Togo                             49841.88\n",
       "Congo                            41181.68\n",
       "Central African Republic         29937.00\n",
       "Namibia                          29874.89\n",
       "Liberia                          29342.20\n",
       "Gabon                            27979.64\n",
       "Gambia                           23154.18\n",
       "Djibouti                         22729.91\n",
       "Botswana                         22101.30\n",
       "Lesotho                          21267.96\n",
       "Guinea-Bissau                    19102.77\n",
       "Cabo Verde                       14650.74\n",
       "Sao Tome and Principe            12662.63\n",
       "Seychelles                         442.34\n",
       "Comoros                             59.84\n",
       "Sudan (former)                       0.00\n",
       "Ethiopia PDR                         0.00\n",
       "Name: Y2017, dtype: float64"
      ]
     },
     "execution_count": 15,
     "metadata": {},
     "output_type": "execute_result"
    }
   ],
   "source": [
    "#sorting in descending order to get the highest value\n",
    "food_area_sum_2017.sort_values(ascending = False)"
   ]
  },
  {
   "cell_type": "code",
   "execution_count": 19,
   "id": "251adafd",
   "metadata": {},
   "outputs": [
    {
     "data": {
      "text/plain": [
       "Y2017    140.917765\n",
       "dtype: float64"
      ]
     },
     "execution_count": 19,
     "metadata": {},
     "output_type": "execute_result"
    }
   ],
   "source": [
    "#Calculation of the mean in Y2017\n",
    "food_area_2017.mean()"
   ]
  },
  {
   "cell_type": "code",
   "execution_count": 17,
   "id": "7e4869b5",
   "metadata": {},
   "outputs": [
    {
     "data": {
      "text/plain": [
       "Y2017    1671.862359\n",
       "dtype: float64"
      ]
     },
     "execution_count": 17,
     "metadata": {},
     "output_type": "execute_result"
    }
   ],
   "source": [
    "#standard deviation\n",
    "food_area_2017.std()"
   ]
  },
  {
   "cell_type": "code",
   "execution_count": 21,
   "id": "35295a61",
   "metadata": {},
   "outputs": [
    {
     "data": {
      "text/plain": [
       "array(['Total Population - Both sexes', 'Domestic supply quantity',\n",
       "       'Food supply (kcal/capita/day)',\n",
       "       'Protein supply quantity (g/capita/day)',\n",
       "       'Fat supply quantity (g/capita/day)', 'Production',\n",
       "       'Import Quantity', 'Stock Variation', 'Export Quantity', 'Feed',\n",
       "       'Seed', 'Losses', 'Processing', 'Other uses (non-food)',\n",
       "       'Residuals', 'Food', 'Food supply quantity (kg/capita/yr)',\n",
       "       'Tourist consumption'], dtype=object)"
      ]
     },
     "execution_count": 21,
     "metadata": {},
     "output_type": "execute_result"
    }
   ],
   "source": [
    "#Inspect the unique values in the Element column\n",
    "balance_datasets.Element.unique()"
   ]
  },
  {
   "cell_type": "code",
   "execution_count": 22,
   "id": "756dda0c",
   "metadata": {},
   "outputs": [],
   "source": [
    "food_balance_2015 = balance_datasets[['Area', 'Element', 'Y2015']]"
   ]
  },
  {
   "cell_type": "code",
   "execution_count": 23,
   "id": "719ccad1",
   "metadata": {},
   "outputs": [
    {
     "data": {
      "text/html": [
       "<div>\n",
       "<style scoped>\n",
       "    .dataframe tbody tr th:only-of-type {\n",
       "        vertical-align: middle;\n",
       "    }\n",
       "\n",
       "    .dataframe tbody tr th {\n",
       "        vertical-align: top;\n",
       "    }\n",
       "\n",
       "    .dataframe thead th {\n",
       "        text-align: right;\n",
       "    }\n",
       "</style>\n",
       "<table border=\"1\" class=\"dataframe\">\n",
       "  <thead>\n",
       "    <tr style=\"text-align: right;\">\n",
       "      <th></th>\n",
       "      <th>Area</th>\n",
       "      <th>Element</th>\n",
       "      <th>Y2015</th>\n",
       "    </tr>\n",
       "  </thead>\n",
       "  <tbody>\n",
       "    <tr>\n",
       "      <th>0</th>\n",
       "      <td>Algeria</td>\n",
       "      <td>Total Population - Both sexes</td>\n",
       "      <td>39728.00</td>\n",
       "    </tr>\n",
       "    <tr>\n",
       "      <th>1</th>\n",
       "      <td>Algeria</td>\n",
       "      <td>Domestic supply quantity</td>\n",
       "      <td>0.00</td>\n",
       "    </tr>\n",
       "    <tr>\n",
       "      <th>2</th>\n",
       "      <td>Algeria</td>\n",
       "      <td>Food supply (kcal/capita/day)</td>\n",
       "      <td>3379.00</td>\n",
       "    </tr>\n",
       "    <tr>\n",
       "      <th>3</th>\n",
       "      <td>Algeria</td>\n",
       "      <td>Protein supply quantity (g/capita/day)</td>\n",
       "      <td>94.35</td>\n",
       "    </tr>\n",
       "    <tr>\n",
       "      <th>4</th>\n",
       "      <td>Algeria</td>\n",
       "      <td>Fat supply quantity (g/capita/day)</td>\n",
       "      <td>79.36</td>\n",
       "    </tr>\n",
       "    <tr>\n",
       "      <th>...</th>\n",
       "      <td>...</td>\n",
       "      <td>...</td>\n",
       "      <td>...</td>\n",
       "    </tr>\n",
       "    <tr>\n",
       "      <th>60938</th>\n",
       "      <td>Zimbabwe</td>\n",
       "      <td>Food</td>\n",
       "      <td>46.00</td>\n",
       "    </tr>\n",
       "    <tr>\n",
       "      <th>60939</th>\n",
       "      <td>Zimbabwe</td>\n",
       "      <td>Food supply quantity (kg/capita/yr)</td>\n",
       "      <td>3.33</td>\n",
       "    </tr>\n",
       "    <tr>\n",
       "      <th>60940</th>\n",
       "      <td>Zimbabwe</td>\n",
       "      <td>Food supply (kcal/capita/day)</td>\n",
       "      <td>4.00</td>\n",
       "    </tr>\n",
       "    <tr>\n",
       "      <th>60941</th>\n",
       "      <td>Zimbabwe</td>\n",
       "      <td>Protein supply quantity (g/capita/day)</td>\n",
       "      <td>0.11</td>\n",
       "    </tr>\n",
       "    <tr>\n",
       "      <th>60942</th>\n",
       "      <td>Zimbabwe</td>\n",
       "      <td>Fat supply quantity (g/capita/day)</td>\n",
       "      <td>0.05</td>\n",
       "    </tr>\n",
       "  </tbody>\n",
       "</table>\n",
       "<p>60943 rows × 3 columns</p>\n",
       "</div>"
      ],
      "text/plain": [
       "           Area                                 Element     Y2015\n",
       "0       Algeria           Total Population - Both sexes  39728.00\n",
       "1       Algeria                Domestic supply quantity      0.00\n",
       "2       Algeria           Food supply (kcal/capita/day)   3379.00\n",
       "3       Algeria  Protein supply quantity (g/capita/day)     94.35\n",
       "4       Algeria      Fat supply quantity (g/capita/day)     79.36\n",
       "...         ...                                     ...       ...\n",
       "60938  Zimbabwe                                    Food     46.00\n",
       "60939  Zimbabwe     Food supply quantity (kg/capita/yr)      3.33\n",
       "60940  Zimbabwe           Food supply (kcal/capita/day)      4.00\n",
       "60941  Zimbabwe  Protein supply quantity (g/capita/day)      0.11\n",
       "60942  Zimbabwe      Fat supply quantity (g/capita/day)      0.05\n",
       "\n",
       "[60943 rows x 3 columns]"
      ]
     },
     "execution_count": 23,
     "metadata": {},
     "output_type": "execute_result"
    }
   ],
   "source": [
    "food_balance_2015"
   ]
  },
  {
   "cell_type": "code",
   "execution_count": 24,
   "id": "86915418",
   "metadata": {},
   "outputs": [],
   "source": [
    "#Highest protein supply quantity in madagasar in 2015\n",
    "highest_protein_madgascar_2015 = food_balance_2015[(food_balance_2015.Element == 'Protein supply quantity (g/capita/day)') \n",
    "                                                       & (food_balance_2015.Area == 'Madagascar')]"
   ]
  },
  {
   "cell_type": "code",
   "execution_count": 25,
   "id": "0cee17d1",
   "metadata": {},
   "outputs": [
    {
     "data": {
      "text/html": [
       "<div>\n",
       "<style scoped>\n",
       "    .dataframe tbody tr th:only-of-type {\n",
       "        vertical-align: middle;\n",
       "    }\n",
       "\n",
       "    .dataframe tbody tr th {\n",
       "        vertical-align: top;\n",
       "    }\n",
       "\n",
       "    .dataframe thead th {\n",
       "        text-align: right;\n",
       "    }\n",
       "</style>\n",
       "<table border=\"1\" class=\"dataframe\">\n",
       "  <thead>\n",
       "    <tr style=\"text-align: right;\">\n",
       "      <th></th>\n",
       "      <th>Area</th>\n",
       "      <th>Element</th>\n",
       "      <th>Y2015</th>\n",
       "    </tr>\n",
       "  </thead>\n",
       "  <tbody>\n",
       "    <tr>\n",
       "      <th>30718</th>\n",
       "      <td>Madagascar</td>\n",
       "      <td>Protein supply quantity (g/capita/day)</td>\n",
       "      <td>43.26</td>\n",
       "    </tr>\n",
       "    <tr>\n",
       "      <th>30721</th>\n",
       "      <td>Madagascar</td>\n",
       "      <td>Protein supply quantity (g/capita/day)</td>\n",
       "      <td>34.04</td>\n",
       "    </tr>\n",
       "    <tr>\n",
       "      <th>30724</th>\n",
       "      <td>Madagascar</td>\n",
       "      <td>Protein supply quantity (g/capita/day)</td>\n",
       "      <td>9.23</td>\n",
       "    </tr>\n",
       "    <tr>\n",
       "      <th>30740</th>\n",
       "      <td>Madagascar</td>\n",
       "      <td>Protein supply quantity (g/capita/day)</td>\n",
       "      <td>27.26</td>\n",
       "    </tr>\n",
       "    <tr>\n",
       "      <th>30756</th>\n",
       "      <td>Madagascar</td>\n",
       "      <td>Protein supply quantity (g/capita/day)</td>\n",
       "      <td>2.14</td>\n",
       "    </tr>\n",
       "    <tr>\n",
       "      <th>...</th>\n",
       "      <td>...</td>\n",
       "      <td>...</td>\n",
       "      <td>...</td>\n",
       "    </tr>\n",
       "    <tr>\n",
       "      <th>32113</th>\n",
       "      <td>Madagascar</td>\n",
       "      <td>Protein supply quantity (g/capita/day)</td>\n",
       "      <td>0.01</td>\n",
       "    </tr>\n",
       "    <tr>\n",
       "      <th>32123</th>\n",
       "      <td>Madagascar</td>\n",
       "      <td>Protein supply quantity (g/capita/day)</td>\n",
       "      <td>0.00</td>\n",
       "    </tr>\n",
       "    <tr>\n",
       "      <th>32133</th>\n",
       "      <td>Madagascar</td>\n",
       "      <td>Protein supply quantity (g/capita/day)</td>\n",
       "      <td>0.02</td>\n",
       "    </tr>\n",
       "    <tr>\n",
       "      <th>32142</th>\n",
       "      <td>Madagascar</td>\n",
       "      <td>Protein supply quantity (g/capita/day)</td>\n",
       "      <td>0.00</td>\n",
       "    </tr>\n",
       "    <tr>\n",
       "      <th>32152</th>\n",
       "      <td>Madagascar</td>\n",
       "      <td>Protein supply quantity (g/capita/day)</td>\n",
       "      <td>0.01</td>\n",
       "    </tr>\n",
       "  </tbody>\n",
       "</table>\n",
       "<p>111 rows × 3 columns</p>\n",
       "</div>"
      ],
      "text/plain": [
       "             Area                                 Element  Y2015\n",
       "30718  Madagascar  Protein supply quantity (g/capita/day)  43.26\n",
       "30721  Madagascar  Protein supply quantity (g/capita/day)  34.04\n",
       "30724  Madagascar  Protein supply quantity (g/capita/day)   9.23\n",
       "30740  Madagascar  Protein supply quantity (g/capita/day)  27.26\n",
       "30756  Madagascar  Protein supply quantity (g/capita/day)   2.14\n",
       "...           ...                                     ...    ...\n",
       "32113  Madagascar  Protein supply quantity (g/capita/day)   0.01\n",
       "32123  Madagascar  Protein supply quantity (g/capita/day)   0.00\n",
       "32133  Madagascar  Protein supply quantity (g/capita/day)   0.02\n",
       "32142  Madagascar  Protein supply quantity (g/capita/day)   0.00\n",
       "32152  Madagascar  Protein supply quantity (g/capita/day)   0.01\n",
       "\n",
       "[111 rows x 3 columns]"
      ]
     },
     "execution_count": 25,
     "metadata": {},
     "output_type": "execute_result"
    }
   ],
   "source": [
    "highest_protein_madgascar_2015"
   ]
  },
  {
   "cell_type": "code",
   "execution_count": 26,
   "id": "dede95bb",
   "metadata": {},
   "outputs": [
    {
     "data": {
      "text/plain": [
       "173.04999999999998"
      ]
     },
     "execution_count": 26,
     "metadata": {},
     "output_type": "execute_result"
    }
   ],
   "source": [
    "highest_protein_madgascar_2015.Y2015.sum()"
   ]
  },
  {
   "cell_type": "code",
   "execution_count": 27,
   "id": "32343fb7",
   "metadata": {},
   "outputs": [],
   "source": [
    "#what year has the highest stock variation\n",
    "element_group_year14 = balance_datasets.groupby('Element').Y2014.sum().sort_values(ascending=False)\n",
    "element_group_year15 = balance_datasets.groupby('Element').Y2015.sum().sort_values(ascending=False)\n",
    "element_group_year16 = balance_datasets.groupby('Element').Y2016.sum().sort_values(ascending=False)\n",
    "element_group_year17 = balance_datasets.groupby('Element').Y2017.sum().sort_values(ascending=False)\n"
   ]
  },
  {
   "cell_type": "code",
   "execution_count": 28,
   "id": "0655ec41",
   "metadata": {},
   "outputs": [
    {
     "data": {
      "text/plain": [
       "Element\n",
       "Domestic supply quantity                  2088198.10\n",
       "Production                                2030056.89\n",
       "Food                                      1258888.28\n",
       "Total Population - Both sexes             1112641.00\n",
       "Food supply (kcal/capita/day)              454681.00\n",
       "Import Quantity                            294559.09\n",
       "Processing                                 292836.00\n",
       "Feed                                       223705.68\n",
       "Export Quantity                            182338.80\n",
       "Losses                                     160614.00\n",
       "Other uses (non-food)                       91645.97\n",
       "Stock Variation                             54316.91\n",
       "Food supply quantity (kg/capita/yr)         48690.04\n",
       "Residuals                                   35500.00\n",
       "Seed                                        24870.14\n",
       "Protein supply quantity (g/capita/day)      11842.45\n",
       "Fat supply quantity (g/capita/day)          10253.84\n",
       "Tourist consumption                            91.00\n",
       "Name: Y2017, dtype: float64"
      ]
     },
     "execution_count": 28,
     "metadata": {},
     "output_type": "execute_result"
    }
   ],
   "source": [
    "element_group_year14\n",
    "element_group_year15 \n",
    "element_group_year16 \n",
    "element_group_year17\n"
   ]
  },
  {
   "cell_type": "code",
   "execution_count": 29,
   "id": "5bb70c95",
   "metadata": {
    "scrolled": true
   },
   "outputs": [
    {
     "data": {
      "text/plain": [
       "Element\n",
       "Domestic supply quantity                  1996716.35\n",
       "Production                                1931287.75\n",
       "Food                                      1212332.49\n",
       "Total Population - Both sexes             1031585.00\n",
       "Food supply (kcal/capita/day)              454257.00\n",
       "Processing                                 282923.00\n",
       "Import Quantity                            274144.48\n",
       "Feed                                       216927.89\n",
       "Losses                                     153223.00\n",
       "Export Quantity                            150020.64\n",
       "Other uses (non-food)                       78718.13\n",
       "Stock Variation                             58749.83\n",
       "Food supply quantity (kg/capita/yr)         49650.63\n",
       "Residuals                                   30149.00\n",
       "Seed                                        21922.92\n",
       "Protein supply quantity (g/capita/day)      11836.46\n",
       "Fat supply quantity (g/capita/day)          10225.56\n",
       "Tourist consumption                           416.00\n",
       "Name: Y2014, dtype: float64"
      ]
     },
     "execution_count": 29,
     "metadata": {},
     "output_type": "execute_result"
    }
   ],
   "source": [
    "element_group_year14"
   ]
  },
  {
   "cell_type": "code",
   "execution_count": 30,
   "id": "2feb559c",
   "metadata": {},
   "outputs": [
    {
     "data": {
      "text/plain": [
       "Element\n",
       "Domestic supply quantity                  2021493.55\n",
       "Production                                1947019.39\n",
       "Food                                      1232361.10\n",
       "Total Population - Both sexes             1058081.00\n",
       "Food supply (kcal/capita/day)              453383.00\n",
       "Processing                                 287929.00\n",
       "Import Quantity                            267018.46\n",
       "Feed                                       225050.22\n",
       "Export Quantity                            157614.47\n",
       "Losses                                     155439.00\n",
       "Other uses (non-food)                       66254.41\n",
       "Food supply quantity (kg/capita/yr)         49345.13\n",
       "Stock Variation                             34910.99\n",
       "Residuals                                   30045.00\n",
       "Seed                                        23976.82\n",
       "Protein supply quantity (g/capita/day)      11833.95\n",
       "Fat supply quantity (g/capita/day)          10235.74\n",
       "Tourist consumption                           349.00\n",
       "Name: Y2015, dtype: float64"
      ]
     },
     "execution_count": 30,
     "metadata": {},
     "output_type": "execute_result"
    }
   ],
   "source": [
    "element_group_year15"
   ]
  },
  {
   "cell_type": "code",
   "execution_count": 31,
   "id": "90497810",
   "metadata": {},
   "outputs": [
    {
     "data": {
      "text/plain": [
       "Element\n",
       "Domestic supply quantity                  2044842.70\n",
       "Production                                1943537.15\n",
       "Food                                      1247022.17\n",
       "Total Population - Both sexes             1085107.00\n",
       "Food supply (kcal/capita/day)              451810.00\n",
       "Import Quantity                            286582.78\n",
       "Processing                                 280631.00\n",
       "Feed                                       228958.65\n",
       "Losses                                     157787.00\n",
       "Export Quantity                            151920.46\n",
       "Other uses (non-food)                       69563.68\n",
       "Food supply quantity (kg/capita/yr)         48985.28\n",
       "Residuals                                   37224.00\n",
       "Stock Variation                             33140.12\n",
       "Seed                                        23389.20\n",
       "Protein supply quantity (g/capita/day)      11779.69\n",
       "Fat supply quantity (g/capita/day)          10102.77\n",
       "Tourist consumption                            89.00\n",
       "Name: Y2016, dtype: float64"
      ]
     },
     "execution_count": 31,
     "metadata": {},
     "output_type": "execute_result"
    }
   ],
   "source": [
    "element_group_year16"
   ]
  },
  {
   "cell_type": "code",
   "execution_count": 32,
   "id": "ffb007d5",
   "metadata": {},
   "outputs": [
    {
     "data": {
      "text/plain": [
       "Element\n",
       "Domestic supply quantity                  2088198.10\n",
       "Production                                2030056.89\n",
       "Food                                      1258888.28\n",
       "Total Population - Both sexes             1112641.00\n",
       "Food supply (kcal/capita/day)              454681.00\n",
       "Import Quantity                            294559.09\n",
       "Processing                                 292836.00\n",
       "Feed                                       223705.68\n",
       "Export Quantity                            182338.80\n",
       "Losses                                     160614.00\n",
       "Other uses (non-food)                       91645.97\n",
       "Stock Variation                             54316.91\n",
       "Food supply quantity (kg/capita/yr)         48690.04\n",
       "Residuals                                   35500.00\n",
       "Seed                                        24870.14\n",
       "Protein supply quantity (g/capita/day)      11842.45\n",
       "Fat supply quantity (g/capita/day)          10253.84\n",
       "Tourist consumption                            91.00\n",
       "Name: Y2017, dtype: float64"
      ]
     },
     "execution_count": 32,
     "metadata": {},
     "output_type": "execute_result"
    }
   ],
   "source": [
    "element_group_year17"
   ]
  },
  {
   "cell_type": "code",
   "execution_count": null,
   "id": "d65c03a6",
   "metadata": {},
   "outputs": [],
   "source": []
  }
 ],
 "metadata": {
  "kernelspec": {
   "display_name": "Python 3",
   "language": "python",
   "name": "python3"
  },
  "language_info": {
   "codemirror_mode": {
    "name": "ipython",
    "version": 3
   },
   "file_extension": ".py",
   "mimetype": "text/x-python",
   "name": "python",
   "nbconvert_exporter": "python",
   "pygments_lexer": "ipython3",
   "version": "3.8.8"
  }
 },
 "nbformat": 4,
 "nbformat_minor": 5
}
